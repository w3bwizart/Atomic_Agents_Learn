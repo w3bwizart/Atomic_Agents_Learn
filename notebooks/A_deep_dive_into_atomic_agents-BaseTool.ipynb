{
 "cells": [
  {
   "cell_type": "markdown",
   "metadata": {},
   "source": [
    "# A Deep dive into the Atomic Agents framework.\n",
    "This series aims to provide an in-depth understanding of each building block within the Atomic Agents framework, in this notebook we will dive into Tools and create a simple CalculatorTool. \n",
    "Whether you're a seasoned developer or new to AI agent development, this series will offer valuable insights into how to effectively utilize and extend the Atomic Agents framework for your AI applications.\n",
    "\n",
    "If you just started checkout the BaseAgent notebook first: \n",
    "\n",
    "'./A_deep_dive_into_atomic_agents-BaseAgent.ipynb'\n",
    "\n",
    "# What is the purpose and functionality of Tools.\n",
    "Tools in multi-agent compound AI systems serve critical functions that enhance specialization, facilitate collaboration, improve efficiency, ensure robustness, and support decision-making. By integrating these tools, multi-agent systems can tackle complex tasks more effectively, making them indispensable in various domains, from enterprise applications to real-world problem-solving scenarios.\n",
    "\n",
    "Some examples are:\n",
    "- Data Retrieval and Processing\n",
    "- Communication and Coordination\n",
    "- Task Automation and Execution\n",
    "- Decision Support and Optimization\n",
    "- Monitoring and Debugging\n",
    "\n",
    "# BaseTool\n",
    "Let's have a look at what the `BaseTool` provides, then we will create the Calculator tool.\n",
    "\n",
    "#### Attributes\n",
    "- **input_schema** (Type[BaseAgentIO]): The schema for the input data.\n",
    "- **output_schema** (Type[BaseAgentIO]): The schema for the output data.\n",
    "- **tool_name** (str): The name of the tool, derived from the input schema's title.\n",
    "- **tool_description** (str): The description of the tool, derived from the input schema's description or overridden by the user.\n",
    "\n",
    "#### Public Functions\n",
    "- **run()**:  Runs the chat agent with the given user input.\n",
    "\n",
    "Here is an overview of what we have to define to be able to create a tool.\n",
    "To create the `BaseTool` we need to prepare all the parts we need to configure and instantiate the Agent.\n",
    "\n",
    "![BaseTool overview schema](../assets/baseTool.png 'BaseTool overview schema')\n",
    "\n",
    "So let's get starting, first we need to install the packages we need."
   ]
  },
  {
   "cell_type": "code",
   "execution_count": null,
   "metadata": {},
   "outputs": [],
   "source": [
    "# Install the necessary packages\n",
    "%pip install atomic-agents openai instructor Groq"
   ]
  },
  {
   "cell_type": "markdown",
   "metadata": {},
   "source": [
    "Next we will do the nessesary imports"
   ]
  },
  {
   "cell_type": "code",
   "execution_count": null,
   "metadata": {},
   "outputs": [],
   "source": [
    "# we need to be able to load an API_key from a .env file\n",
    "from dotenv import load_dotenv\n",
    "\n",
    "# we need the os to get to out environment variables\n",
    "import os\n",
    "\n",
    "# A library for data validation using Python type annotations. Here, BaseModel and Field are used to define and validate the structure of input and output data.\n",
    "from pydantic import Field\n",
    "\n",
    "# A library for rich text and beautiful formatting in the terminal.\n",
    "from rich.console import Console\n",
    "\n",
    "# A library for symbolic mathematics in Python. sympify is used to parse a string into a mathematical expression.\n",
    "from sympy import sympify\n",
    "\n",
    "#\n",
    "from atomic_agents.agents.base_agent import BaseAgentIO\n",
    "\n",
    "# we need the BaseTool because it's the base for creating a Tool\n",
    "# we need the BaseToolConfig to create the configuration for the BaseTool\n",
    "from atomic_agents.lib.tools.base import BaseTool, BaseToolConfig\n",
    "\n",
    "# is used to print formatted output.\n",
    "console = Console()\n",
    "# we need to load the environment variables from the .env file\n",
    "load_dotenv()"
   ]
  },
  {
   "cell_type": "markdown",
   "metadata": {},
   "source": [
    "So let's start with the `input_schema` extend it from the BaseAgentIO and define the title and description."
   ]
  },
  {
   "cell_type": "code",
   "execution_count": null,
   "metadata": {},
   "outputs": [],
   "source": [
    "# A class that defines the structure of the input data for the calculator tool.\n",
    "class CalculatorToolInputSchema(BaseAgentIO):\n",
    "    # A string field that holds the mathematical expression to evaluate. The Field function provides metadata like a description.\n",
    "    expression: str = Field(\n",
    "        ...,\n",
    "        description=\"Mathematical expression to ecvaluate. For example '2 + 2'.\",\n",
    "    )\n",
    "\n",
    "    #  An inner class that provides additional configuration for the schema, including a title and description.\n",
    "    class Config:\n",
    "        title = \"CalculatorTool\"\n",
    "        description = (\n",
    "            \"Tool for performing calculations. Supports basic arithmetic operations \"\n",
    "            \"like addition, subtraction, multiplication, and division, but also more \"\n",
    "            \"complex operations like exponentiation and trigonometric functions. \"\n",
    "            \"Use this tool to evaluate mathematical expressions.\"\n",
    "        )\n",
    "        json_schema_extra = {\"title\": title, \"description\": description}"
   ]
  },
  {
   "cell_type": "markdown",
   "metadata": {},
   "source": [
    "Next we need to define the output_schema."
   ]
  },
  {
   "cell_type": "code",
   "execution_count": null,
   "metadata": {},
   "outputs": [],
   "source": [
    "#  A class that defines the structure of the output data for the calculator tool.\n",
    "class CalculatorToolOutputSchema(BaseAgentIO):\n",
    "    # A string field that holds the result of the calculation.\n",
    "    result: str = Field(..., description=\"Result of the calculation.\")"
   ]
  },
  {
   "cell_type": "markdown",
   "metadata": {},
   "source": [
    "Now we need to define the tool_logic"
   ]
  },
  {
   "cell_type": "code",
   "execution_count": null,
   "metadata": {},
   "outputs": [],
   "source": [
    "class CalculatorToolConfig(BaseToolConfig):\n",
    "    pass"
   ]
  },
  {
   "cell_type": "markdown",
   "metadata": {},
   "source": [
    "There is no specific logic to define so we can just pass this function.\n",
    "\n",
    "Now it's time to put it all together."
   ]
  },
  {
   "cell_type": "code",
   "execution_count": null,
   "metadata": {},
   "outputs": [],
   "source": [
    "# A class that implements the calculator tool.\n",
    "class CalculatorTool(BaseTool):\n",
    "    # Specifies the expected input schema.\n",
    "    input_schema = CalculatorToolInputSchema\n",
    "    # Specifies the expected output schema.\n",
    "    output_schema = CalculatorToolOutputSchema\n",
    "\n",
    "    # The constructor method that initializes the tool. It optionally takes a configuration parameter.\n",
    "    def __init__(self, config: CalculatorToolConfig = CalculatorToolConfig()):\n",
    "        super().__init__(config)\n",
    "\n",
    "    # A method that takes an instance of CalculatorToolInputSchema, parses the mathematical expression using sympify, evaluates it, and returns the result wrapped in CalculatorToolOutputSchema.\n",
    "    def run(self, params: CalculatorToolInputSchema) -> CalculatorToolOutputSchema:\n",
    "        parsed_expression = sympify(str(params.expression))\n",
    "        result = parsed_expression.evalf()\n",
    "        return CalculatorToolOutputSchema(result=str(result))"
   ]
  },
  {
   "cell_type": "markdown",
   "metadata": {},
   "source": [
    "The last step is to create some usage example of the tool."
   ]
  },
  {
   "cell_type": "code",
   "execution_count": null,
   "metadata": {},
   "outputs": [],
   "source": [
    "# This block ensures that the code inside it runs only when the script is executed directly, not when imported as a module.\n",
    "if __name__ == \"__main__\":\n",
    "    rich_console = Console()\n",
    "    # Creates an instance of the CalculatorTool.\n",
    "    tool = CalculatorTool()\n",
    "    # Creates an instance of the input schema with the expression \"2 + 2\".\n",
    "    input_data = CalculatorToolInputSchema(expression=\"2 + 2\")\n",
    "    # Runs the calculator tool with the input data and stores the result.\n",
    "    output_data = tool.run(input_data)\n",
    "    rich_console.print(output_data)"
   ]
  },
  {
   "cell_type": "markdown",
   "metadata": {},
   "source": [
    "# Tool Summary\n",
    "This code defines a simple calculator tool using Python classes and several libraries. It validates input and output data structures using Pydantic, parses and evaluates mathematical expressions using SymPy, and prints the results using Rich. The main execution block demonstrates how to use the tool by creating an instance, running it with an example input, and printing the result.\n",
    "\n",
    "\n",
    "For a complete script check it at:  \n",
    "/scripts/A_deep_dive_into_atomic_agents_BaseTool.py"
   ]
  },
  {
   "cell_type": "markdown",
   "metadata": {},
   "source": [
    "# Conclusion\n",
    "Congratulations on reaching the end of this exploration of the BaseTool class! \n",
    "By now, you should have a solid grasp of its functionalities, setup requirements, and how to effectively create and integrate custom tools within the Atomic Agents framework. \n",
    "This foundational knowledge is essential as you continue to build more sophisticated AI applications.\n",
    "\n",
    "# What's Next?\n",
    "In the next notebook of this series, we will take a significant step forward by combining agents and tools. This integration will allow us to harness the full potential of the Atomic Agents framework, enabling more complex and capable AI solutions. Specifically, we will cover:\n",
    "\n",
    "- The synergy between agents and tools within the framework.\n",
    "- Detailed instructions on how to combine these components effectively.\n",
    "- Practical examples demonstrating the enhanced capabilities of AI agents when equipped with custom tools.\n",
    "\n",
    "Stay tuned for an exciting journey into the world of combined agents and tools, where we will unlock even greater potential for your AI projects. \n",
    "Thank you for following along, and we look forward to seeing you in the next notebook! \n",
    "\n",
    "For a complete script check it at:\n",
    "/scripts/A_deep_dive_into_atomic_agents_BaseTool.py"
   ]
  },
  {
   "cell_type": "markdown",
   "metadata": {},
   "source": []
  }
 ],
 "metadata": {
  "kernelspec": {
   "display_name": ".venv",
   "language": "python",
   "name": "python3"
  },
  "language_info": {
   "codemirror_mode": {
    "name": "ipython",
    "version": 3
   },
   "file_extension": ".py",
   "mimetype": "text/x-python",
   "name": "python",
   "nbconvert_exporter": "python",
   "pygments_lexer": "ipython3",
   "version": "3.10.12"
  }
 },
 "nbformat": 4,
 "nbformat_minor": 2
}
