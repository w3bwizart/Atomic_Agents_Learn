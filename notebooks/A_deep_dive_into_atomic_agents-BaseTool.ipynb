{
 "cells": [
  {
   "cell_type": "markdown",
   "metadata": {},
   "source": [
    "# A Deep dive into the Atomic Agents framework.\n",
    "This series aims to provide an in-depth understanding of each building block within the Atomic Agents framework, in this notebook we will dive into Tools and create a simple CalculatorTool. \n",
    "Whether you're a seasoned developer or new to AI agent development, this series will offer valuable insights into how to effectively utilize and extend the Atomic Agents framework for your AI applications.\n",
    "\n",
    "If you just started checkout the BaseAgent notebook first: \n",
    "\n",
    "'./A_deep_dive_into_atomic_agents-BaseAgent.ipynb'\n",
    "\n",
    "# What is the purpose and functionality of Tools.\n",
    "Tools in multi-agent compound AI systems serve critical functions that enhance specialization, facilitate collaboration, improve efficiency, ensure robustness, and support decision-making. By integrating these tools, multi-agent systems can tackle complex tasks more effectively, making them indispensable in various domains, from enterprise applications to real-world problem-solving scenarios.\n",
    "\n",
    "Some examples are:\n",
    "- Data Retrieval and Processing\n",
    "- Communication and Coordination\n",
    "- Task Automation and Execution\n",
    "- Decision Support and Optimization\n",
    "- Monitoring and Debugging\n",
    "\n",
    "# BaseTool\n",
    "Let's have a look at what the `BaseTool` provides, then we will create the Calculator tool.\n",
    "\n",
    "#### Attributes\n",
    "- **input_schema** (Type[BaseAgentIO]): The schema for the input data.\n",
    "- **output_schema** (Type[BaseAgentIO]): The schema for the output data.\n",
    "- **tool_name** (str): The name of the tool, derived from the input schema's title.\n",
    "- **tool_description** (str): The description of the tool, derived from the input schema's description or overridden by the user.\n",
    "\n",
    "#### Public Functions\n",
    "- **run()**:  Runs the chat agent with the given user input.\n",
    "\n",
    "Here is an overview of what we have to define to be able to create a tool.\n",
    "To create the `BaseTool` we need to prepare all the parts we need to configure and instantiate the Agent.\n",
    "\n",
    "![BaseTool overview schema](../assets/baseTool.png 'BaseTool overview schema')\n",
    "\n",
    "So let's get starting, first we need to install the packages we need."
   ]
  },
  {
   "cell_type": "code",
   "execution_count": 1,
   "metadata": {},
   "outputs": [
    {
     "name": "stdout",
     "output_type": "stream",
     "text": [
      "Requirement already satisfied: atomic-agents in /home/w3bwizar/Development/AI/Atomic_Agents_Learn/.venv/lib/python3.10/site-packages (0.1.45)\n",
      "Requirement already satisfied: openai in /home/w3bwizar/Development/AI/Atomic_Agents_Learn/.venv/lib/python3.10/site-packages (1.35.12)\n",
      "Requirement already satisfied: instructor in /home/w3bwizar/Development/AI/Atomic_Agents_Learn/.venv/lib/python3.10/site-packages (1.3.4)\n",
      "Requirement already satisfied: Groq in /home/w3bwizar/Development/AI/Atomic_Agents_Learn/.venv/lib/python3.10/site-packages (0.9.0)\n",
      "Requirement already satisfied: beautifulsoup4==4.12.3 in /home/w3bwizar/Development/AI/Atomic_Agents_Learn/.venv/lib/python3.10/site-packages (from atomic-agents) (4.12.3)\n",
      "Requirement already satisfied: google-api-python-client==2.114.0 in /home/w3bwizar/Development/AI/Atomic_Agents_Learn/.venv/lib/python3.10/site-packages (from atomic-agents) (2.114.0)\n",
      "Requirement already satisfied: markdownify==0.12.1 in /home/w3bwizar/Development/AI/Atomic_Agents_Learn/.venv/lib/python3.10/site-packages (from atomic-agents) (0.12.1)\n",
      "Requirement already satisfied: pydantic==2.8.2 in /home/w3bwizar/Development/AI/Atomic_Agents_Learn/.venv/lib/python3.10/site-packages (from atomic-agents) (2.8.2)\n",
      "Requirement already satisfied: PyPDF2==3.0.1 in /home/w3bwizar/Development/AI/Atomic_Agents_Learn/.venv/lib/python3.10/site-packages (from atomic-agents) (3.0.1)\n",
      "Requirement already satisfied: Requests==2.32.3 in /home/w3bwizar/Development/AI/Atomic_Agents_Learn/.venv/lib/python3.10/site-packages (from atomic-agents) (2.32.3)\n",
      "Requirement already satisfied: rich==13.7.1 in /home/w3bwizar/Development/AI/Atomic_Agents_Learn/.venv/lib/python3.10/site-packages (from atomic-agents) (13.7.1)\n",
      "Requirement already satisfied: sympy==1.12 in /home/w3bwizar/Development/AI/Atomic_Agents_Learn/.venv/lib/python3.10/site-packages (from atomic-agents) (1.12)\n",
      "Requirement already satisfied: youtube-transcript-api==0.6.2 in /home/w3bwizar/Development/AI/Atomic_Agents_Learn/.venv/lib/python3.10/site-packages (from atomic-agents) (0.6.2)\n",
      "Requirement already satisfied: anyio<5,>=3.5.0 in /home/w3bwizar/Development/AI/Atomic_Agents_Learn/.venv/lib/python3.10/site-packages (from openai) (4.4.0)\n",
      "Requirement already satisfied: distro<2,>=1.7.0 in /home/w3bwizar/Development/AI/Atomic_Agents_Learn/.venv/lib/python3.10/site-packages (from openai) (1.9.0)\n",
      "Requirement already satisfied: httpx<1,>=0.23.0 in /home/w3bwizar/Development/AI/Atomic_Agents_Learn/.venv/lib/python3.10/site-packages (from openai) (0.27.0)\n",
      "Requirement already satisfied: sniffio in /home/w3bwizar/Development/AI/Atomic_Agents_Learn/.venv/lib/python3.10/site-packages (from openai) (1.3.1)\n",
      "Requirement already satisfied: tqdm>4 in /home/w3bwizar/Development/AI/Atomic_Agents_Learn/.venv/lib/python3.10/site-packages (from openai) (4.66.4)\n",
      "Requirement already satisfied: typing-extensions<5,>=4.7 in /home/w3bwizar/Development/AI/Atomic_Agents_Learn/.venv/lib/python3.10/site-packages (from openai) (4.12.2)\n",
      "Requirement already satisfied: aiohttp<4.0.0,>=3.9.1 in /home/w3bwizar/Development/AI/Atomic_Agents_Learn/.venv/lib/python3.10/site-packages (from instructor) (3.9.5)\n",
      "Requirement already satisfied: docstring-parser<0.17,>=0.16 in /home/w3bwizar/Development/AI/Atomic_Agents_Learn/.venv/lib/python3.10/site-packages (from instructor) (0.16)\n",
      "Requirement already satisfied: jiter<0.5.0,>=0.4.1 in /home/w3bwizar/Development/AI/Atomic_Agents_Learn/.venv/lib/python3.10/site-packages (from instructor) (0.4.2)\n",
      "Requirement already satisfied: pydantic-core<3.0.0,>=2.18.0 in /home/w3bwizar/Development/AI/Atomic_Agents_Learn/.venv/lib/python3.10/site-packages (from instructor) (2.20.1)\n",
      "Requirement already satisfied: tenacity<9.0.0,>=8.2.3 in /home/w3bwizar/Development/AI/Atomic_Agents_Learn/.venv/lib/python3.10/site-packages (from instructor) (8.5.0)\n",
      "Requirement already satisfied: typer<1.0.0,>=0.9.0 in /home/w3bwizar/Development/AI/Atomic_Agents_Learn/.venv/lib/python3.10/site-packages (from instructor) (0.12.3)\n",
      "Requirement already satisfied: soupsieve>1.2 in /home/w3bwizar/Development/AI/Atomic_Agents_Learn/.venv/lib/python3.10/site-packages (from beautifulsoup4==4.12.3->atomic-agents) (2.5)\n",
      "Requirement already satisfied: httplib2<1.dev0,>=0.15.0 in /home/w3bwizar/Development/AI/Atomic_Agents_Learn/.venv/lib/python3.10/site-packages (from google-api-python-client==2.114.0->atomic-agents) (0.22.0)\n",
      "Requirement already satisfied: google-auth<3.0.0.dev0,>=1.19.0 in /home/w3bwizar/Development/AI/Atomic_Agents_Learn/.venv/lib/python3.10/site-packages (from google-api-python-client==2.114.0->atomic-agents) (2.32.0)\n",
      "Requirement already satisfied: google-auth-httplib2>=0.1.0 in /home/w3bwizar/Development/AI/Atomic_Agents_Learn/.venv/lib/python3.10/site-packages (from google-api-python-client==2.114.0->atomic-agents) (0.2.0)\n",
      "Requirement already satisfied: google-api-core!=2.0.*,!=2.1.*,!=2.2.*,!=2.3.0,<3.0.0.dev0,>=1.31.5 in /home/w3bwizar/Development/AI/Atomic_Agents_Learn/.venv/lib/python3.10/site-packages (from google-api-python-client==2.114.0->atomic-agents) (2.19.1)\n",
      "Requirement already satisfied: uritemplate<5,>=3.0.1 in /home/w3bwizar/Development/AI/Atomic_Agents_Learn/.venv/lib/python3.10/site-packages (from google-api-python-client==2.114.0->atomic-agents) (4.1.1)\n",
      "Requirement already satisfied: six<2,>=1.15 in /home/w3bwizar/Development/AI/Atomic_Agents_Learn/.venv/lib/python3.10/site-packages (from markdownify==0.12.1->atomic-agents) (1.16.0)\n",
      "Requirement already satisfied: annotated-types>=0.4.0 in /home/w3bwizar/Development/AI/Atomic_Agents_Learn/.venv/lib/python3.10/site-packages (from pydantic==2.8.2->atomic-agents) (0.7.0)\n",
      "Requirement already satisfied: charset-normalizer<4,>=2 in /home/w3bwizar/Development/AI/Atomic_Agents_Learn/.venv/lib/python3.10/site-packages (from Requests==2.32.3->atomic-agents) (3.3.2)\n",
      "Requirement already satisfied: idna<4,>=2.5 in /home/w3bwizar/Development/AI/Atomic_Agents_Learn/.venv/lib/python3.10/site-packages (from Requests==2.32.3->atomic-agents) (3.7)\n",
      "Requirement already satisfied: urllib3<3,>=1.21.1 in /home/w3bwizar/Development/AI/Atomic_Agents_Learn/.venv/lib/python3.10/site-packages (from Requests==2.32.3->atomic-agents) (2.2.2)\n",
      "Requirement already satisfied: certifi>=2017.4.17 in /home/w3bwizar/Development/AI/Atomic_Agents_Learn/.venv/lib/python3.10/site-packages (from Requests==2.32.3->atomic-agents) (2024.7.4)\n",
      "Requirement already satisfied: markdown-it-py>=2.2.0 in /home/w3bwizar/Development/AI/Atomic_Agents_Learn/.venv/lib/python3.10/site-packages (from rich==13.7.1->atomic-agents) (3.0.0)\n",
      "Requirement already satisfied: pygments<3.0.0,>=2.13.0 in /home/w3bwizar/Development/AI/Atomic_Agents_Learn/.venv/lib/python3.10/site-packages (from rich==13.7.1->atomic-agents) (2.18.0)\n",
      "Requirement already satisfied: mpmath>=0.19 in /home/w3bwizar/Development/AI/Atomic_Agents_Learn/.venv/lib/python3.10/site-packages (from sympy==1.12->atomic-agents) (1.3.0)\n",
      "Requirement already satisfied: aiosignal>=1.1.2 in /home/w3bwizar/Development/AI/Atomic_Agents_Learn/.venv/lib/python3.10/site-packages (from aiohttp<4.0.0,>=3.9.1->instructor) (1.3.1)\n",
      "Requirement already satisfied: attrs>=17.3.0 in /home/w3bwizar/Development/AI/Atomic_Agents_Learn/.venv/lib/python3.10/site-packages (from aiohttp<4.0.0,>=3.9.1->instructor) (23.2.0)\n",
      "Requirement already satisfied: frozenlist>=1.1.1 in /home/w3bwizar/Development/AI/Atomic_Agents_Learn/.venv/lib/python3.10/site-packages (from aiohttp<4.0.0,>=3.9.1->instructor) (1.4.1)\n",
      "Requirement already satisfied: multidict<7.0,>=4.5 in /home/w3bwizar/Development/AI/Atomic_Agents_Learn/.venv/lib/python3.10/site-packages (from aiohttp<4.0.0,>=3.9.1->instructor) (6.0.5)\n",
      "Requirement already satisfied: yarl<2.0,>=1.0 in /home/w3bwizar/Development/AI/Atomic_Agents_Learn/.venv/lib/python3.10/site-packages (from aiohttp<4.0.0,>=3.9.1->instructor) (1.9.4)\n",
      "Requirement already satisfied: async-timeout<5.0,>=4.0 in /home/w3bwizar/Development/AI/Atomic_Agents_Learn/.venv/lib/python3.10/site-packages (from aiohttp<4.0.0,>=3.9.1->instructor) (4.0.3)\n",
      "Requirement already satisfied: exceptiongroup>=1.0.2 in /home/w3bwizar/Development/AI/Atomic_Agents_Learn/.venv/lib/python3.10/site-packages (from anyio<5,>=3.5.0->openai) (1.2.1)\n",
      "Requirement already satisfied: httpcore==1.* in /home/w3bwizar/Development/AI/Atomic_Agents_Learn/.venv/lib/python3.10/site-packages (from httpx<1,>=0.23.0->openai) (1.0.5)\n",
      "Requirement already satisfied: h11<0.15,>=0.13 in /home/w3bwizar/Development/AI/Atomic_Agents_Learn/.venv/lib/python3.10/site-packages (from httpcore==1.*->httpx<1,>=0.23.0->openai) (0.14.0)\n",
      "Requirement already satisfied: click>=8.0.0 in /home/w3bwizar/Development/AI/Atomic_Agents_Learn/.venv/lib/python3.10/site-packages (from typer<1.0.0,>=0.9.0->instructor) (8.1.7)\n",
      "Requirement already satisfied: shellingham>=1.3.0 in /home/w3bwizar/Development/AI/Atomic_Agents_Learn/.venv/lib/python3.10/site-packages (from typer<1.0.0,>=0.9.0->instructor) (1.5.4)\n",
      "Requirement already satisfied: googleapis-common-protos<2.0.dev0,>=1.56.2 in /home/w3bwizar/Development/AI/Atomic_Agents_Learn/.venv/lib/python3.10/site-packages (from google-api-core!=2.0.*,!=2.1.*,!=2.2.*,!=2.3.0,<3.0.0.dev0,>=1.31.5->google-api-python-client==2.114.0->atomic-agents) (1.63.2)\n",
      "Requirement already satisfied: protobuf!=3.20.0,!=3.20.1,!=4.21.0,!=4.21.1,!=4.21.2,!=4.21.3,!=4.21.4,!=4.21.5,<6.0.0.dev0,>=3.19.5 in /home/w3bwizar/Development/AI/Atomic_Agents_Learn/.venv/lib/python3.10/site-packages (from google-api-core!=2.0.*,!=2.1.*,!=2.2.*,!=2.3.0,<3.0.0.dev0,>=1.31.5->google-api-python-client==2.114.0->atomic-agents) (5.27.2)\n",
      "Requirement already satisfied: proto-plus<2.0.0dev,>=1.22.3 in /home/w3bwizar/Development/AI/Atomic_Agents_Learn/.venv/lib/python3.10/site-packages (from google-api-core!=2.0.*,!=2.1.*,!=2.2.*,!=2.3.0,<3.0.0.dev0,>=1.31.5->google-api-python-client==2.114.0->atomic-agents) (1.24.0)\n",
      "Requirement already satisfied: cachetools<6.0,>=2.0.0 in /home/w3bwizar/Development/AI/Atomic_Agents_Learn/.venv/lib/python3.10/site-packages (from google-auth<3.0.0.dev0,>=1.19.0->google-api-python-client==2.114.0->atomic-agents) (5.3.3)\n",
      "Requirement already satisfied: pyasn1-modules>=0.2.1 in /home/w3bwizar/Development/AI/Atomic_Agents_Learn/.venv/lib/python3.10/site-packages (from google-auth<3.0.0.dev0,>=1.19.0->google-api-python-client==2.114.0->atomic-agents) (0.4.0)\n",
      "Requirement already satisfied: rsa<5,>=3.1.4 in /home/w3bwizar/Development/AI/Atomic_Agents_Learn/.venv/lib/python3.10/site-packages (from google-auth<3.0.0.dev0,>=1.19.0->google-api-python-client==2.114.0->atomic-agents) (4.9)\n",
      "Requirement already satisfied: pyparsing!=3.0.0,!=3.0.1,!=3.0.2,!=3.0.3,<4,>=2.4.2 in /home/w3bwizar/Development/AI/Atomic_Agents_Learn/.venv/lib/python3.10/site-packages (from httplib2<1.dev0,>=0.15.0->google-api-python-client==2.114.0->atomic-agents) (3.1.2)\n",
      "Requirement already satisfied: mdurl~=0.1 in /home/w3bwizar/Development/AI/Atomic_Agents_Learn/.venv/lib/python3.10/site-packages (from markdown-it-py>=2.2.0->rich==13.7.1->atomic-agents) (0.1.2)\n",
      "Requirement already satisfied: pyasn1<0.7.0,>=0.4.6 in /home/w3bwizar/Development/AI/Atomic_Agents_Learn/.venv/lib/python3.10/site-packages (from pyasn1-modules>=0.2.1->google-auth<3.0.0.dev0,>=1.19.0->google-api-python-client==2.114.0->atomic-agents) (0.6.0)\n",
      "Note: you may need to restart the kernel to use updated packages.\n"
     ]
    }
   ],
   "source": [
    "# Install the necessary packages\n",
    "%pip install atomic-agents openai instructor Groq"
   ]
  },
  {
   "cell_type": "markdown",
   "metadata": {},
   "source": [
    "Next we will do the nessesary imports"
   ]
  },
  {
   "cell_type": "code",
   "execution_count": 2,
   "metadata": {},
   "outputs": [
    {
     "data": {
      "text/plain": [
       "True"
      ]
     },
     "execution_count": 2,
     "metadata": {},
     "output_type": "execute_result"
    }
   ],
   "source": [
    "# we need to be able to load an API_key from a .env file \n",
    "from dotenv import load_dotenv\n",
    "# we need the os to get to out environment variables\n",
    "import os\n",
    "# A library for data validation using Python type annotations. Here, BaseModel and Field are used to define and validate the structure of input and output data.\n",
    "from pydantic import Field\n",
    "# A library for rich text and beautiful formatting in the terminal. \n",
    "from rich.console import Console\n",
    "# A library for symbolic mathematics in Python. sympify is used to parse a string into a mathematical expression.\n",
    "from sympy import sympify\n",
    "# \n",
    "from atomic_agents.agents.base_agent import BaseAgentIO\n",
    "# we need the BaseTool because it's the base for creating a Tool\n",
    "# we need the BaseToolConfig to create the configuration for the BaseTool\n",
    "from atomic_agents.lib.tools.base import BaseTool, BaseToolConfig\n",
    "# is used to print formatted output.\n",
    "console = Console()\n",
    "# we need to load the environment variables from the .env file\n",
    "load_dotenv()"
   ]
  },
  {
   "cell_type": "markdown",
   "metadata": {},
   "source": [
    "So let's start with the `input_schema` extend it from the BaseAgentIO and define the title and description."
   ]
  },
  {
   "cell_type": "code",
   "execution_count": 3,
   "metadata": {},
   "outputs": [],
   "source": [
    "# A class that defines the structure of the input data for the calculator tool.\n",
    "class CalculatorToolInputSchema(BaseAgentIO):\n",
    "    # A string field that holds the mathematical expression to evaluate. The Field function provides metadata like a description.\n",
    "    expression: str = Field(\n",
    "        ...,\n",
    "        description = \"Mathematical expression to ecvaluate. For example '2 + 2'.\",\n",
    "    )\n",
    "    #  An inner class that provides additional configuration for the schema, including a title and description.\n",
    "    class Config:\n",
    "        title = \"CalculatorTool\"\n",
    "        description = (\n",
    "            \"Tool for performing calculations. Supports basic arithmetic operations \"\n",
    "            \"like addition, subtraction, multiplication, and division, but also more \"\n",
    "            \"complex operations like exponentiation and trigonometric functions. \"\n",
    "            \"Use this tool to evaluate mathematical expressions.\"\n",
    "        )\n",
    "        json_schema_extra = {\"title\": title, \"description\": description}"
   ]
  },
  {
   "cell_type": "markdown",
   "metadata": {},
   "source": [
    "Next we need to define the output_schema."
   ]
  },
  {
   "cell_type": "code",
   "execution_count": 4,
   "metadata": {},
   "outputs": [],
   "source": [
    "#  A class that defines the structure of the output data for the calculator tool.\n",
    "class CalculatorToolOutputSchema(BaseAgentIO):\n",
    "    # A string field that holds the result of the calculation.\n",
    "    result: str = Field(..., description=\"Result of the calculation.\")"
   ]
  },
  {
   "cell_type": "markdown",
   "metadata": {},
   "source": [
    "Now we need to define the tool_logic"
   ]
  },
  {
   "cell_type": "code",
   "execution_count": 5,
   "metadata": {},
   "outputs": [],
   "source": [
    "class CalculatorToolConfig(BaseToolConfig):\n",
    "    pass"
   ]
  },
  {
   "cell_type": "markdown",
   "metadata": {},
   "source": [
    "There is no specific logic to define so we can just pass this function.\n",
    "\n",
    "Now it's time to put it all together."
   ]
  },
  {
   "cell_type": "code",
   "execution_count": 6,
   "metadata": {},
   "outputs": [],
   "source": [
    "# A class that implements the calculator tool.\n",
    "class CalculatorTool(BaseTool):\n",
    "    # Specifies the expected input schema.\n",
    "    input_schema = CalculatorToolInputSchema\n",
    "    # Specifies the expected output schema.\n",
    "    output_schema = CalculatorToolOutputSchema\n",
    "    \n",
    "    # The constructor method that initializes the tool. It optionally takes a configuration parameter.\n",
    "    def __init__(self, config: CalculatorToolConfig = CalculatorToolConfig()):\n",
    "        super().__init__(config)\n",
    "    \n",
    "    # A method that takes an instance of CalculatorToolInputSchema, parses the mathematical expression using sympify, evaluates it, and returns the result wrapped in CalculatorToolOutputSchema.\n",
    "    def run(self, params: CalculatorToolInputSchema) -> CalculatorToolOutputSchema:\n",
    "        parsed_expression = sympify(str(params.expression))\n",
    "        result = parsed_expression.evalf()\n",
    "        return CalculatorToolOutputSchema(result=str(result))"
   ]
  },
  {
   "cell_type": "markdown",
   "metadata": {},
   "source": [
    "The last step is to create some usage example of the tool."
   ]
  },
  {
   "cell_type": "code",
   "execution_count": 7,
   "metadata": {},
   "outputs": [
    {
     "data": {
      "text/html": [
       "<pre style=\"white-space:pre;overflow-x:auto;line-height:normal;font-family:Menlo,'DejaVu Sans Mono',consolas,'Courier New',monospace\"><span style=\"font-weight: bold\">{</span>\n",
       "  <span style=\"color: #000080; text-decoration-color: #000080; font-weight: bold\">\"result\"</span>: <span style=\"color: #008000; text-decoration-color: #008000\">\"4.00000000000000\"</span>\n",
       "<span style=\"font-weight: bold\">}</span>\n",
       "</pre>\n"
      ],
      "text/plain": [
       "\u001b[1m{\u001b[0m\n",
       "  \u001b[1;34m\"result\"\u001b[0m: \u001b[32m\"4.00000000000000\"\u001b[0m\n",
       "\u001b[1m}\u001b[0m\n"
      ]
     },
     "metadata": {},
     "output_type": "display_data"
    }
   ],
   "source": [
    "# This block ensures that the code inside it runs only when the script is executed directly, not when imported as a module.\n",
    "if __name__ == \"__main__\":\n",
    "    rich_console = Console()\n",
    "    # Creates an instance of the CalculatorTool.\n",
    "    tool = CalculatorTool()\n",
    "    # Creates an instance of the input schema with the expression \"2 + 2\".\n",
    "    input_data = CalculatorToolInputSchema(expression=\"2 + 2\")\n",
    "    # Runs the calculator tool with the input data and stores the result.\n",
    "    output_data = tool.run(input_data)\n",
    "    rich_console.print(output_data)"
   ]
  },
  {
   "cell_type": "markdown",
   "metadata": {},
   "source": [
    "# Tool Summary\n",
    "This code defines a simple calculator tool using Python classes and several libraries. It validates input and output data structures using Pydantic, parses and evaluates mathematical expressions using SymPy, and prints the results using Rich. The main execution block demonstrates how to use the tool by creating an instance, running it with an example input, and printing the result."
   ]
  }
 ],
 "metadata": {
  "kernelspec": {
   "display_name": ".venv",
   "language": "python",
   "name": "python3"
  },
  "language_info": {
   "codemirror_mode": {
    "name": "ipython",
    "version": 3
   },
   "file_extension": ".py",
   "mimetype": "text/x-python",
   "name": "python",
   "nbconvert_exporter": "python",
   "pygments_lexer": "ipython3",
   "version": "3.10.12"
  }
 },
 "nbformat": 4,
 "nbformat_minor": 2
}
